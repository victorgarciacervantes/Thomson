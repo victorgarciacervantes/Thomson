{
 "cells": [
  {
   "cell_type": "code",
   "execution_count": 1,
   "id": "46e03ee6-b9e9-4524-bc1b-bebc2674077f",
   "metadata": {},
   "outputs": [],
   "source": [
    "from numpy import sqrt, shape, array, exp, log, linspace, cos, sin, zeros\n",
    "from random import random, randrange, uniform\n",
    "from matplotlib.pyplot import plot, show, scatter, xlabel, ylabel, title, legend, figure, savefig\n",
    "from math import pi\n",
    "from tqdm import trange, tqdm"
   ]
  },
  {
   "cell_type": "code",
   "execution_count": 2,
   "id": "a3c90f70-2e19-4f14-98b9-4a77a2c4df35",
   "metadata": {},
   "outputs": [
    {
     "name": "stderr",
     "output_type": "stream",
     "text": [
      "100%|███████████████████████████████████████████████████████████████████| 1000000/1000000 [00:00<00:00, 1129606.94it/s]\n"
     ]
    }
   ],
   "source": [
    "x = 0\n",
    "for n in trange(1000000):\n",
    "    x+=1"
   ]
  },
  {
   "cell_type": "code",
   "execution_count": 3,
   "id": "f7b97e4d-7672-4742-910f-8045f7a856e5",
   "metadata": {},
   "outputs": [],
   "source": [
    "def distance(r1, r2): # calculates the distance modulus\n",
    "    dis = sqrt((r1[0] - r2[0])**2 + (r1[1] - r2[1])**2)\n",
    "    return dis"
   ]
  },
  {
   "cell_type": "code",
   "execution_count": 4,
   "id": "82f16ea2-33cb-4516-9aed-f70f85745ccc",
   "metadata": {},
   "outputs": [],
   "source": [
    "def energy(r):  # calculates the energy of a system of charged particles \n",
    "    N , a = shape(r)\n",
    "    sum = 0\n",
    "    for i in range(N):\n",
    "        for j in range(N):\n",
    "            if i!=j:\n",
    "                dis = sqrt((r[i,0] - r[j,0])**2 + (r[i,1] - r[j,1])**2)\n",
    "                sum+= 1/dis\n",
    "    return sum/2"
   ]
  },
  {
   "cell_type": "code",
   "execution_count": 5,
   "id": "5ece2c17-7df4-4ffb-af9a-c4777c3ed179",
   "metadata": {},
   "outputs": [
    {
     "name": "stdout",
     "output_type": "stream",
     "text": [
      "2 2 1.0\n"
     ]
    }
   ],
   "source": [
    "p = array([[0,0],[1,1]], float)\n",
    "p\n",
    "a,b=shape(p)\n",
    "print(a,b, p[1,1])"
   ]
  },
  {
   "cell_type": "code",
   "execution_count": 6,
   "id": "38061c62-8e92-4d44-8053-4c45c24e36ce",
   "metadata": {},
   "outputs": [
    {
     "data": {
      "text/plain": [
       "0.7071067811865475"
      ]
     },
     "execution_count": 6,
     "metadata": {},
     "output_type": "execute_result"
    }
   ],
   "source": [
    "energy(p)"
   ]
  },
  {
   "cell_type": "code",
   "execution_count": 7,
   "id": "4ca0294c-746e-478d-8743-ed707f6fdf49",
   "metadata": {},
   "outputs": [
    {
     "data": {
      "text/plain": [
       "1.4142135623730951"
      ]
     },
     "execution_count": 7,
     "metadata": {},
     "output_type": "execute_result"
    }
   ],
   "source": [
    "distance(p[0,:], p[1,:])"
   ]
  },
  {
   "cell_type": "code",
   "execution_count": 8,
   "id": "cf090103-4c4d-4fb6-96c7-b2f2aa7f1fda",
   "metadata": {},
   "outputs": [],
   "source": [
    "def force(r, i):  # calculates force one of the particle feels from the rest\n",
    "    N , a = shape(r)\n",
    "    sum = 0\n",
    "    for j in range(i):\n",
    "        dis = distance(r[i,:], r[j,:])\n",
    "        sum+= (r[i,:] - r[j,:])/dis**3\n",
    "    for j in range(i+1, N):\n",
    "        dis = distance(r[i,:], r[j,:])\n",
    "        sum+= (r[i,:] - r[j,:])/dis**3\n",
    "    return sum "
   ]
  },
  {
   "cell_type": "code",
   "execution_count": 9,
   "id": "91342f4a-7506-47d0-8f13-bcc4617a1d5a",
   "metadata": {},
   "outputs": [
    {
     "data": {
      "text/plain": [
       "array([-0.35355339, -0.35355339])"
      ]
     },
     "execution_count": 9,
     "metadata": {},
     "output_type": "execute_result"
    }
   ],
   "source": [
    "force(p, 0)"
   ]
  },
  {
   "cell_type": "markdown",
   "id": "f877336f-47d5-4590-bed9-e485f613abd9",
   "metadata": {},
   "source": [
    "We are going to make a change so that it only returns the force vector direction (normalized to unity)."
   ]
  },
  {
   "cell_type": "code",
   "execution_count": 10,
   "id": "563d51a3-059c-4aad-a156-cc01d7aabaa7",
   "metadata": {},
   "outputs": [],
   "source": [
    "def force_vector(r, i):  # calculates force vector direction one of the particle feels from the rest\n",
    "    N , a = shape(r)\n",
    "    sum = 0\n",
    "    for j in range(i):\n",
    "        sum+= 1/(r[i,:] - r[j,:])\n",
    "    for j in range(i+1, N):\n",
    "        sum+= 1/(r[i,:] - r[j,:])\n",
    "    vec = sum/distance(sum, [0,0])\n",
    "    return vec"
   ]
  },
  {
   "cell_type": "code",
   "execution_count": 11,
   "id": "14adf0d1-3d52-4173-a58d-94aeb59b3bfe",
   "metadata": {},
   "outputs": [
    {
     "data": {
      "text/plain": [
       "array([0.70710678, 0.70710678])"
      ]
     },
     "execution_count": 11,
     "metadata": {},
     "output_type": "execute_result"
    }
   ],
   "source": [
    "B = array([[0,0],[1,1],[-0.5,-0.5]], float)\n",
    "force_vector(B, 0)"
   ]
  },
  {
   "cell_type": "markdown",
   "id": "2871b914-a060-4a4a-831a-acbaf7a43a4a",
   "metadata": {},
   "source": [
    "I have changed the function circle. Before it had a shape to act on whole position array. Now it only has a len so it can act individually on each particle."
   ]
  },
  {
   "cell_type": "code",
   "execution_count": 12,
   "id": "ea6d4cf1-bcf1-4601-8355-4c31f3779652",
   "metadata": {},
   "outputs": [],
   "source": [
    "def circle(r):\n",
    "    N, a = shape(r)\n",
    "    for i in range(N):\n",
    "        dis = sqrt(r[i,0]**2 + r[i,1]**2)\n",
    "        if dis<1.0:\n",
    "            continue\n",
    "        else:\n",
    "            return False\n",
    "    return True"
   ]
  },
  {
   "cell_type": "code",
   "execution_count": 13,
   "id": "0ea5ceb1-fc0f-4e4f-b0ca-9c36fc83d006",
   "metadata": {},
   "outputs": [],
   "source": [
    "def circle_ind(r):\n",
    "    N = len(r)\n",
    "    dis = sqrt(r[0]**2 + r[1]**2)\n",
    "    if dis<1.0:\n",
    "        return True\n",
    "    else:\n",
    "        return False"
   ]
  },
  {
   "cell_type": "code",
   "execution_count": 14,
   "id": "753957a4-4c9b-42d9-9c21-265258463f9c",
   "metadata": {},
   "outputs": [
    {
     "data": {
      "text/plain": [
       "False"
      ]
     },
     "execution_count": 14,
     "metadata": {},
     "output_type": "execute_result"
    }
   ],
   "source": [
    "A = array([[0,0],[0.8,0.8]], float)\n",
    "circle_ind(A[1,:])"
   ]
  },
  {
   "cell_type": "code",
   "execution_count": 15,
   "id": "3b21629f-0ece-4346-9b10-25b38216bac9",
   "metadata": {},
   "outputs": [],
   "source": [
    "def random_step(r, c): \n",
    "    N, a = shape(r)  # r is the position of particles array\n",
    "    for i in range(N):   # c is the amount we are willing to move the particle\n",
    "        z = zeros(2,float)\n",
    "        for j in range(a):\n",
    "            z[j] = r[i,j] + uniform(-c, c)\n",
    "            if circle_ind(z)==True:\n",
    "                r[i,j] = z[j]\n",
    "    return r"
   ]
  },
  {
   "cell_type": "code",
   "execution_count": 16,
   "id": "86c6272e-7dd2-4295-8b69-f11dd837d873",
   "metadata": {},
   "outputs": [
    {
     "data": {
      "text/plain": [
       "array([[-0.06994366, -0.08160262],\n",
       "       [ 0.68075648,  0.66155462]])"
      ]
     },
     "execution_count": 16,
     "metadata": {},
     "output_type": "execute_result"
    }
   ],
   "source": [
    "p = array([[0,0],[0.7,0.7]], float)\n",
    "random_step(p,0.1)"
   ]
  },
  {
   "cell_type": "code",
   "execution_count": 17,
   "id": "3be87b45-5fc3-4e5d-b254-f3db881c591d",
   "metadata": {},
   "outputs": [],
   "source": [
    "def biased_step(r, c):\n",
    "    # in this fucntion, the displacement of a particle is the combination of the force and stochastic noise\n",
    "    N, a = shape(r)  # r is the position of particles array\n",
    "    for i in range(N):   # c is the amount we are willing to move the particle\n",
    "        z = r[i,:] + c*force_vector(r,i) + [uniform(-c, c), uniform(-c, c)]\n",
    "        if circle_ind(z)==True:\n",
    "            r[i,:] = z\n",
    "    return r"
   ]
  },
  {
   "cell_type": "code",
   "execution_count": 18,
   "id": "4b610224-c3fe-4a35-9044-ecca20419fff",
   "metadata": {},
   "outputs": [
    {
     "data": {
      "text/plain": [
       "array([[-0.07099297, -0.08845285],\n",
       "       [ 0.68893688,  0.67473739]])"
      ]
     },
     "execution_count": 18,
     "metadata": {},
     "output_type": "execute_result"
    }
   ],
   "source": [
    "biased_step(p, 0.01)"
   ]
  },
  {
   "cell_type": "code",
   "execution_count": 19,
   "id": "d2c3362f-33c5-49d5-9b31-256a31e7fac1",
   "metadata": {},
   "outputs": [],
   "source": [
    "def step_SA(r, T, niter_T, f, c):\n",
    "    E = energy(r)\n",
    "    for n in range(niter_T):\n",
    "        r_step = f(r,c)\n",
    "        E_step = energy(r_step)\n",
    "        q = exp((E - E_step)/T)\n",
    "        U = random()\n",
    "        if U<q: \n",
    "            r = r_step\n",
    "            E = E_step\n",
    "    return r, E"
   ]
  },
  {
   "cell_type": "code",
   "execution_count": 20,
   "id": "3f42e608-29a3-4fc9-a803-c63fcfb559b5",
   "metadata": {},
   "outputs": [],
   "source": [
    "r1,E1 = step_SA(p, 10, 100, random_step, 0.2)"
   ]
  },
  {
   "cell_type": "code",
   "execution_count": 21,
   "id": "373b7ad9-65d0-4ff5-af50-95af22afccde",
   "metadata": {},
   "outputs": [
    {
     "name": "stdout",
     "output_type": "stream",
     "text": [
      "[[ 0.72301687  0.73723906]\n",
      " [ 0.01213913 -0.10613603]] 0.9066109729832067\n"
     ]
    },
    {
     "data": {
      "text/plain": [
       "<matplotlib.collections.PathCollection at 0x1d3ccea4110>"
      ]
     },
     "execution_count": 21,
     "metadata": {},
     "output_type": "execute_result"
    },
    {
     "data": {
      "image/png": "[encoded data removed]",
      "text/plain": [
       "<Figure size 640x480 with 1 Axes>"
      ]
     },
     "metadata": {},
     "output_type": "display_data"
    }
   ],
   "source": [
    "print(r1, E1)\n",
    "scatter(r1[:,0], r1[:,1])"
   ]
  },
  {
   "cell_type": "code",
   "execution_count": 22,
   "id": "412efde9-47f7-4ff6-9d5a-3091c30da8b8",
   "metadata": {},
   "outputs": [],
   "source": [
    "def energy_opt(r0, Tmax, Tmin, tau, g, c, f, niter_T, maxiter):\n",
    "    # g is the function for temperature annealing\n",
    "    # f is the method to actualize particles\n",
    "    r = r0\n",
    "    E = energy(r0)\n",
    "    T = Tmax\n",
    "    #while T>Tmin and t<maxiter:\n",
    "    for t in tqdm(range(maxiter)):\n",
    "        r, E = step_SA(r, T, niter_T, g, c)\n",
    "        T = f(t, tau, Tmax)\n",
    "        #scatter(r[:,0], r[:,1])\n",
    "    return r, E, T"
   ]
  },
  {
   "cell_type": "code",
   "execution_count": 23,
   "id": "01b37961-6d0a-45ab-9ac6-6d3971aada40",
   "metadata": {},
   "outputs": [],
   "source": [
    "def temp_exp(t, tau, Tmax):\n",
    "    return Tmax*exp(-t/tau)"
   ]
  },
  {
   "cell_type": "markdown",
   "id": "8cb5383c-e5f2-427a-9220-05efff0d0434",
   "metadata": {},
   "source": [
    "Analoga a la funcion de Marta y la del paper de multiplicar cada vez por cte."
   ]
  },
  {
   "cell_type": "code",
   "execution_count": 24,
   "id": "de74edec-104b-4b1f-ac19-c6d1616f8d74",
   "metadata": {},
   "outputs": [],
   "source": [
    "def temp_power(t, tau, Tmax):\n",
    "    return Tmax*(tau)**t"
   ]
  },
  {
   "cell_type": "code",
   "execution_count": 25,
   "id": "1ced3906-fcf6-4c2f-a138-b7acd0a6496f",
   "metadata": {},
   "outputs": [
    {
     "data": {
      "text/plain": [
       "34.86784401000001"
      ]
     },
     "execution_count": 25,
     "metadata": {},
     "output_type": "execute_result"
    }
   ],
   "source": [
    "temp_power(10,0.9,100)"
   ]
  },
  {
   "cell_type": "code",
   "execution_count": 26,
   "id": "95b1ea1b-b6e3-4948-88ca-6658088d8f7d",
   "metadata": {},
   "outputs": [],
   "source": [
    "def temp_log(t, d, Tmax):\n",
    "    return Tmax/log(t+d)"
   ]
  },
  {
   "cell_type": "code",
   "execution_count": 27,
   "id": "1c156232-0a83-43a4-98f0-be7ac735c616",
   "metadata": {},
   "outputs": [
    {
     "data": {
      "text/plain": [
       "41.8626748753152"
      ]
     },
     "execution_count": 27,
     "metadata": {},
     "output_type": "execute_result"
    }
   ],
   "source": [
    "temp_log(10,0.9,100)"
   ]
  },
  {
   "cell_type": "code",
   "execution_count": 28,
   "id": "f00959a4-1e0f-481f-9b2d-b6b2d4fef596",
   "metadata": {},
   "outputs": [
    {
     "data": {
      "text/plain": [
       "array([[0., 0.],\n",
       "       [0., 0.]])"
      ]
     },
     "execution_count": 28,
     "metadata": {},
     "output_type": "execute_result"
    }
   ],
   "source": [
    "zeros((2,2),float)"
   ]
  },
  {
   "cell_type": "code",
   "execution_count": 29,
   "id": "1e5b2a9e-3cad-4096-8b0f-808da2826d50",
   "metadata": {},
   "outputs": [],
   "source": [
    "def random_initial(N):\n",
    "    r = zeros((N,2),float)\n",
    "    for i in range(N):\n",
    "        r[i,:] = array([random() - 0.5, random() - 0.5],float)*1.4\n",
    "    return r"
   ]
  },
  {
   "cell_type": "code",
   "execution_count": 30,
   "id": "961f1d41-f501-417f-bc25-da2b84f282e5",
   "metadata": {},
   "outputs": [
    {
     "data": {
      "text/plain": [
       "<matplotlib.collections.PathCollection at 0x1d3cd7f4110>"
      ]
     },
     "execution_count": 30,
     "metadata": {},
     "output_type": "execute_result"
    },
    {
     "data": {
      "image/png": "[encoded data removed]",
      "text/plain": [
       "<Figure size 640x480 with 1 Axes>"
      ]
     },
     "metadata": {},
     "output_type": "display_data"
    }
   ],
   "source": [
    "r = random_initial(3)\n",
    "scatter(r[:,0], r[:,1])"
   ]
  },
  {
   "cell_type": "code",
   "execution_count": 54,
   "id": "aa12444b-c144-44f2-9e80-dd6fa5a6e5e2",
   "metadata": {},
   "outputs": [
    {
     "name": "stderr",
     "output_type": "stream",
     "text": [
      "100%|██████████████████████████████████████████████████████████████████████████████████| 50/50 [00:02<00:00, 20.28it/s]\n"
     ]
    },
    {
     "name": "stdout",
     "output_type": "stream",
     "text": [
      "[[-0.07090083  0.56612717]\n",
      " [-0.218405   -0.05366599]\n",
      " [-0.32475976  0.20822192]] 6.382481642058517 1.7179250691067063\n"
     ]
    },
    {
     "data": {
      "image/png": "[encoded data removed]",
      "text/plain": [
       "<Figure size 640x480 with 1 Axes>"
      ]
     },
     "metadata": {},
     "output_type": "display_data"
    }
   ],
   "source": [
    "r0 = random_initial(3)\n",
    "scatter(r0[:,0], r0[:,1])\n",
    "Tmax = 300\n",
    "Tmin = 1\n",
    "tau = 0.9 \n",
    "c = 0.1\n",
    "niter_T = 300\n",
    "maxiter = 50\n",
    "\n",
    "r2,E2, T2 = energy_opt(r0, Tmax, Tmin, tau, random_step, c, temp_power, niter_T, maxiter)\n",
    "print(r2,E2,T2)"
   ]
  },
  {
   "cell_type": "code",
   "execution_count": 55,
   "id": "57d73c78-4db3-40d2-b8b8-14f51c41c473",
   "metadata": {
    "scrolled": true
   },
   "outputs": [
    {
     "data": {
      "image/png": "[encoded data removed]",
      "text/plain": [
       "<Figure size 800x800 with 1 Axes>"
      ]
     },
     "metadata": {},
     "output_type": "display_data"
    }
   ],
   "source": [
    "xaxis = []\n",
    "yaxis = []\n",
    "\n",
    "theta = linspace(0,2*pi,100)\n",
    "for th in theta:\n",
    "    xaxis.append(cos(th))\n",
    "    yaxis.append(sin(th))\n",
    "\n",
    "figure(figsize = (8,8))\n",
    "plot(xaxis,yaxis,color = 'black')\n",
    "scatter(r2[:,0],r2[:,1],color = 'red')\n",
    "xlabel('x-axis')\n",
    "ylabel('y-axis')\n",
    "title('2D configuration')\n",
    "#savefig(f'12 particles')\n",
    "show()"
   ]
  },
  {
   "cell_type": "markdown",
   "id": "76e0b2df-dead-40af-ae0b-64c847d667b5",
   "metadata": {},
   "source": [
    "We will now study the effect on the Markov chain length on convergence."
   ]
  },
  {
   "cell_type": "code",
   "execution_count": 84,
   "id": "67ddc2a9-6e1f-4875-8319-6a5e20e2a2bd",
   "metadata": {},
   "outputs": [
    {
     "name": "stderr",
     "output_type": "stream",
     "text": [
      "  1%|▋                                                                             | 94/10000 [00:00<00:11, 886.28it/s]C:\\Users\\Usuario\\AppData\\Local\\Temp\\ipykernel_4244\\3979402265.py:6: RuntimeWarning: overflow encountered in exp\n",
      "  q = exp((E - E_step)/T)\n",
      " 67%|██████████████████████████████████████████████████▎                        | 6704/10000 [00:05<00:02, 1298.59it/s]C:\\Users\\Usuario\\AppData\\Local\\Temp\\ipykernel_4244\\3979402265.py:6: RuntimeWarning: overflow encountered in scalar divide\n",
      "  q = exp((E - E_step)/T)\n",
      " 70%|████████████████████████████████████████████████████▎                      | 6969/10000 [00:05<00:02, 1281.95it/s]C:\\Users\\Usuario\\AppData\\Local\\Temp\\ipykernel_4244\\3979402265.py:6: RuntimeWarning: divide by zero encountered in scalar divide\n",
      "  q = exp((E - E_step)/T)\n",
      "100%|██████████████████████████████████████████████████████████████████████████| 10000/10000 [00:07<00:00, 1294.94it/s]"
     ]
    },
    {
     "name": "stdout",
     "output_type": "stream",
     "text": [
      "[[ 0.12000908 -0.63448261]\n",
      " [-0.26663496 -0.96159717]\n",
      " [-0.9273854   0.34021747]\n",
      " [ 0.99898434 -0.03768343]\n",
      " [ 0.44240677  0.89360655]] 8.189643860661871 0.0\n"
     ]
    },
    {
     "name": "stderr",
     "output_type": "stream",
     "text": [
      "\n"
     ]
    }
   ],
   "source": [
    "N = 5\n",
    "r0 = random_initial(N)\n",
    "Tmax = 500\n",
    "Tmin = 1\n",
    "tau = 0.9 \n",
    "c = 0.05\n",
    "niter_T = 1\n",
    "maxiter = 10000\n",
    "\n",
    "r3,E3, T3 = energy_opt(r0, Tmax, Tmin, tau, biased_step, c, temp_power, niter_T, maxiter)\n",
    "print(r3,E3,T3)"
   ]
  },
  {
   "cell_type": "code",
   "execution_count": 86,
   "id": "c58be5e5-2317-41ab-99b0-ade3e518dabd",
   "metadata": {},
   "outputs": [
    {
     "name": "stdout",
     "output_type": "stream",
     "text": [
      "0.0\n"
     ]
    }
   ],
   "source": [
    "print(T3)"
   ]
  },
  {
   "cell_type": "code",
   "execution_count": 81,
   "id": "a4685a88-f6b6-43c8-ae3b-f73a0a54afa2",
   "metadata": {},
   "outputs": [
    {
     "name": "stderr",
     "output_type": "stream",
     "text": [
      "100%|████████████████████████████████████████████████████████████████████████████████| 100/100 [00:06<00:00, 16.19it/s]\n"
     ]
    },
    {
     "name": "stdout",
     "output_type": "stream",
     "text": [
      "[[-0.47446445  0.49362379]\n",
      " [-0.70003919  0.70795701]\n",
      " [-0.0110695   0.0773907 ]\n",
      " [ 0.329272   -0.92264735]\n",
      " [ 0.94015486 -0.33950935]] 10.74268577186012 0.014756332715326413\n"
     ]
    }
   ],
   "source": [
    "r0 = random_initial(N)\n",
    "niter_T = 100\n",
    "maxiter = 100\n",
    "\n",
    "r4, E4, T4 = energy_opt(r0, Tmax, Tmin, tau, biased_step, c, temp_power, niter_T, maxiter)\n",
    "print(r4, E4, T4)"
   ]
  },
  {
   "cell_type": "code",
   "execution_count": 88,
   "id": "a30a4b52-9413-448f-b2e5-d0439d1b6489",
   "metadata": {},
   "outputs": [
    {
     "name": "stderr",
     "output_type": "stream",
     "text": [
      "100%|████████████████████████████████████████████████████████████████████████████████| 100/100 [00:14<00:00,  6.70it/s]"
     ]
    },
    {
     "name": "stdout",
     "output_type": "stream",
     "text": [
      "[[ 0.34879225  0.93545661]\n",
      " [ 0.87708807 -0.47970904]\n",
      " [-0.95700899  0.2858531 ]\n",
      " [-0.02773706 -0.99440374]\n",
      " [-0.67721196 -0.05028386]] 8.071228219559078 0.014756332715326413\n"
     ]
    },
    {
     "name": "stderr",
     "output_type": "stream",
     "text": [
      "\n"
     ]
    }
   ],
   "source": [
    "r0 = random_initial(N)\n",
    "niter_T = 200\n",
    "maxiter = 100\n",
    "\n",
    "r5, E5, T5 = energy_opt(r0, Tmax, Tmin, tau, biased_step, c, temp_power, niter_T, maxiter)\n",
    "print(r5, E5, T5)"
   ]
  },
  {
   "cell_type": "code",
   "execution_count": 89,
   "id": "1790329a-62f1-4bf0-b575-16f1b53d5000",
   "metadata": {},
   "outputs": [
    {
     "name": "stdout",
     "output_type": "stream",
     "text": [
      "0.014756332715326413\n"
     ]
    }
   ],
   "source": [
    "print(T5)"
   ]
  },
  {
   "cell_type": "code",
   "execution_count": 90,
   "id": "15107b8e-19d2-4ffe-a7d1-ad824dc0e0be",
   "metadata": {},
   "outputs": [
    {
     "data": {
      "image/png": "[encoded data removed]",
      "text/plain": [
       "<Figure size 800x800 with 1 Axes>"
      ]
     },
     "metadata": {},
     "output_type": "display_data"
    }
   ],
   "source": [
    "xaxis = []\n",
    "yaxis = []\n",
    "\n",
    "theta = linspace(0,2*pi,100)\n",
    "for th in theta:\n",
    "    xaxis.append(cos(th))\n",
    "    yaxis.append(sin(th))\n",
    "\n",
    "figure(figsize = (8,8))\n",
    "plot(xaxis,yaxis,color = 'black')\n",
    "scatter(r3[:,0],r3[:,1],color = 'red', marker = \"o\")\n",
    "scatter(r4[:,0],r4[:,1],color = 'blue', marker = \"o\")\n",
    "scatter(r5[:,0],r5[:,1],color = 'green', marker = \"o\")\n",
    "xlabel('x-axis')\n",
    "ylabel('y-axis')\n",
    "title('2D configuration')\n",
    "show()"
   ]
  },
  {
   "cell_type": "code",
   "execution_count": null,
   "id": "2b43eb91-968f-427a-9b62-14c44d9cd31e",
   "metadata": {},
   "outputs": [],
   "source": []
  }
 ],
 "metadata": {
  "kernelspec": {
   "display_name": "Python 3 (ipykernel)",
   "language": "python",
   "name": "python3"
  },
  "language_info": {
   "codemirror_mode": {
    "name": "ipython",
    "version": 3
   },
   "file_extension": ".py",
   "mimetype": "text/x-python",
   "name": "python",
   "nbconvert_exporter": "python",
   "pygments_lexer": "ipython3",
   "version": "3.11.7"
  }
 },
 "nbformat": 4,
 "nbformat_minor": 5
}
